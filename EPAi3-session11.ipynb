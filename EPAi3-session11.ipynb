{
 "cells": [
  {
   "cell_type": "code",
   "metadata": {
    "tags": [],
    "cell_id": "00000-b2a8399e-0fe5-486a-9a83-657c25fe7ba4",
    "deepnote_to_be_reexecuted": false,
    "source_hash": "471a5508",
    "execution_start": 1627057085590,
    "execution_millis": 0,
    "deepnote_cell_type": "code"
   },
   "source": "from math import sin, cos, pi\n\n\nclass Polygon:\n    def __init__(self, n_edges, r):\n\n        self.edges = n_edges\n        self.radius = r\n        self.vertices = n_edges\n        self.init_parameters()\n\n    def init_parameters(self):\n        _ = self.edge_length\n        _ = self.interior_angle\n        _ = self.apothem\n        _ = self.area\n        _ = self.perimeter\n\n    @property\n    def edges(self):\n        return self._edges\n\n    @property\n    def radius(self):\n        return self._radius\n\n    @edges.setter\n    def edges(self, n_edges):\n        if not isinstance(n_edges, (int, float)):\n            raise ValueError\n        if n_edges < 3:\n            raise ValueError\n\n        self._edges = n_edges\n        self._vertices = n_edges\n        self._edge_length = None\n        self._interior_angle = None\n        self._apothem = None\n        self._area = None\n        self._perimeter = None\n\n    @property\n    def vertices(self):\n        return self._vertices\n\n    @vertices.setter\n    def vertices(self, vert):\n        if not isinstance(vert, (int, float)):\n            raise ValueError\n        if vert < 3:\n            raise ValueError\n\n        self._edges = vert\n        self._vertices = vert\n        self._edge_length = None\n        self._interior_angle = None\n        self._apothem = None\n        self._area = None\n        self._perimeter = None\n\n    @radius.setter\n    def radius(self, r):\n        if not isinstance(r, (int, float)):\n            raise ValueError\n        if r < 0:\n            raise ValueError\n        self._radius = r\n        self._edge_length = None\n        self._interior_angle = None\n        self._apothem = None\n        self._area = None\n        self._perimeter = None\n\n    @property\n    def edge_length(self):\n        if self._edge_length is None:\n            self._edge_length = 2 * self._radius * sin(pi / self._edges)\n\n        return self._edge_length\n\n    @property\n    def interior_angle(self):\n        if self._interior_angle is None:\n            self._interior_angle = (self._edges - 2) * 180 / self._edges\n        return self._interior_angle\n\n    @property\n    def apothem(self):\n        if self._apothem is None:\n            self._apothem = self._radius * cos(pi / self._edges)\n        return self._apothem\n\n    @property\n    def area(self):\n        if self._apothem is None:\n            _ = self.apothem\n        if self._edge_length is None:\n            _ = self.edge_length\n        if self._area is None:\n            self._area = 0.5 * self._edges * self._edge_length * self._apothem\n        return self._area\n\n    @property\n    def perimeter(self):\n        if self._edge_length is None:\n            _ = self.edge_length\n        if self._perimeter is None:\n            self._perimeter = self._edges * self._edge_length\n        return self._perimeter\n\n    def __repr__(self):\n        return f\"A regular polygon with {vars(self)}\"\n\n    def __eq__(self, other):\n        return (self.vertices == other.vertices) and (self.radius == other.radius)\n\n    def __gt__(self, other):\n        return self.vertices > other.vertices\n",
   "outputs": [],
   "execution_count": 1
  },
  {
   "cell_type": "code",
   "metadata": {
    "tags": [],
    "cell_id": "00001-cf17104f-0a8e-4a49-acdc-ff8d0a07c21e",
    "deepnote_to_be_reexecuted": false,
    "source_hash": "e1a128d3",
    "execution_start": 1627057128964,
    "execution_millis": 13,
    "deepnote_cell_type": "code"
   },
   "source": "from functools import lru_cache\nclass PolygonSequence:\n    def __init__(self, max_edge, radius):\n        self.max_edge = max_edge\n        self.radius = radius\n        self.ratio = {}\n\n    def init_parameters(self):\n        _ = self.max_edge\n        _ = self.radius\n\n    @property\n    def max_edge(self):\n        return self._max_edge\n\n    @max_edge.setter\n    def max_edge(self, new_max_edge):\n        if not isinstance(new_max_edge, (int, float)):\n            raise ValueError\n        if new_max_edge < 3:\n            raise ValueError\n\n        self._max_edge = new_max_edge\n\n    @property\n    def radius(self):\n\n        return self._radius\n\n    @radius.setter\n    def radius(self, rad):\n        if not isinstance(rad, (int, float)):\n            raise ValueError\n        if rad < 0:\n            raise ValueError\n\n        self._radius = rad\n\n    def __repr__(self):\n        return f\"Polygon Sequence class with max_edge = {self.max_edge} and common radius = {self.radius}\"\n\n    def __len__(self):\n        return self.max_edge - 2\n\n    def __getitem__(self, idx):\n        if isinstance(idx, int):\n            if idx >= 0:\n                if idx < 3:\n                    idx = 3\n                return PolygonSequence.get_poly(idx, self.radius)\n\n            else:\n                idx = self.max_edge + idx\n                if idx < 0 or idx >= self.max_edge:\n                    raise IndexError\n                return PolygonSequence.get_poly(idx + 1, self.radius)\n        else:\n            start, end, skip = idx.indices(self.max_edge + 1)\n            start = start if start > 3 else 3\n            end = end if end >= 3 else 2\n            return [\n                PolygonSequence.get_poly(i, self.radius)\n                for i in range(start, end, skip)\n            ]\n\n    @staticmethod\n    @lru_cache(16)\n    def get_poly(n, radius):\n        return Polygon(n, radius)\n\n    @property\n    @lru_cache(1)\n    def max_efficiency(self):\n        for i in range(3, self.max_edge + 1):\n            poly = self.__getitem__(i)\n            self.ratio[i] = poly.area * 1.0 / poly.perimeter\n        max_key = max(self.ratio, key=self.ratio.get)\n        # return f\"max_efficiency_polygon_edge: {max_key}, area/perimeter ratio : {self.ratio[max_key]}\"\n        return self.get_poly(max_key, self.radius)\n\n    def __iter__(self):\n        return self.PolygonIter(self)\n\n    class PolygonIter:\n        def __init__(self, polygon_object):\n            self._polygon_object = polygon_object\n            self._idx = 3\n\n        def __iter__(self):\n            return self\n\n        def __next__(self):\n            if self._idx > self._polygon_object.max_edge:\n                raise StopIteration\n            else:\n                poly = Polygon(self._idx, self._polygon_object._radius)\n                self._idx += 1\n                return poly\n\n",
   "outputs": [],
   "execution_count": 5
  },
  {
   "cell_type": "code",
   "metadata": {
    "tags": [],
    "cell_id": "00001-17b6e8e0-4706-458e-9c49-549344a41fd1",
    "deepnote_to_be_reexecuted": false,
    "source_hash": "939e2af2",
    "execution_start": 1627057231755,
    "execution_millis": 27,
    "deepnote_cell_type": "code"
   },
   "source": "import math\ndef test_polygon():\n    abs_tol = 0.001\n    rel_tol = 0.001\n    \n    try:\n        p = Polygon(2, 10)\n        assert False, ('Creating a Polygon with 2 sides: '\n                       ' Exception expected, not received')\n    except ValueError:\n        pass\n                       \n    n = 3\n    R = 1\n    p = Polygon(n, R)\n    assert p.vertices == n, (f'actual: {p.vertices},'\n                                   f' expected: {n}')\n    assert p.edges == n, f'actual: {p.count_edges}, expected: {n}'\n    assert p.radius == R, f'actual: {p.circumradius}, expected: {n}'\n    assert p.interior_angle == 60, (f'actual: {p.interior_angle},'\n                                    ' expected: 60')\n    n = 4\n    R = 1\n    p = Polygon(n, R)\n    assert p.interior_angle == 90, (f'actual: {p.interior_angle}, '\n                                    ' expected: 90')\n\n    \n    assert math.isclose(p.edge_length, math.sqrt(2),\n                       rel_tol=rel_tol,\n                       abs_tol=abs_tol), (f'actual: {p.edge_length},'\n                                          f' expected: {math.sqrt(2)}')\n    \n    assert math.isclose(p.perimeter, 4 * math.sqrt(2),\n                       rel_tol=rel_tol,\n                       abs_tol=abs_tol), (f'actual: {p.perimeter},'\n                                          f' expected: {4 * math.sqrt(2)}')\n    \n    assert math.isclose(p.apothem, 0.707,\n                       rel_tol=rel_tol,\n                       abs_tol=abs_tol), (f'actual: {p.perimeter},'\n                                          ' expected: 0.707')\n    assert math.isclose(p.area, 2, \n                    rel_tol=abs_tol, \n                    abs_tol=abs_tol), (f'actual: {p.area},'\n                                        ' expected: 2.0')\n    p = Polygon(6, 2)\n    assert math.isclose(p.edge_length, 2,\n                        rel_tol=rel_tol, abs_tol=abs_tol)\n    assert math.isclose(p.apothem, 1.73205,\n                        rel_tol=rel_tol, abs_tol=abs_tol)\n    assert math.isclose(p.area, 10.3923,\n                        rel_tol=rel_tol, abs_tol=abs_tol)\n    assert math.isclose(p.perimeter, 12,\n                        rel_tol=rel_tol, abs_tol=abs_tol)\n    assert math.isclose(p.interior_angle, 120,\n                        rel_tol=rel_tol, abs_tol=abs_tol)\n    \n    p = Polygon(12, 3)\n    assert math.isclose(p.edge_length, 1.55291,\n                        rel_tol=rel_tol, abs_tol=abs_tol)\n    assert math.isclose(p.apothem, 2.89778,\n                        rel_tol=rel_tol, abs_tol=abs_tol)\n    assert math.isclose(p.area, 27,\n                        rel_tol=rel_tol, abs_tol=abs_tol)\n    assert math.isclose(p.perimeter, 18.635,\n                        rel_tol=rel_tol, abs_tol=abs_tol)\n    assert math.isclose(p.interior_angle, 150,\n                        rel_tol=rel_tol, abs_tol=abs_tol)\n    \n    p1 = Polygon(3, 10)\n    p2 = Polygon(10, 10)\n    p3 = Polygon(15, 10)\n    p4 = Polygon(15, 100)\n    p5 = Polygon(15, 100)\n    \n    assert p2 > p1\n    assert p2 < p3\n    assert p3 != p4\n    assert p1 != p4\n    assert p4 == p5\n\ntest_polygon()",
   "outputs": [],
   "execution_count": 9
  },
  {
   "cell_type": "code",
   "metadata": {
    "tags": [],
    "cell_id": "00003-98f317f2-008b-4b9e-9c64-ac86d659411d",
    "deepnote_to_be_reexecuted": false,
    "source_hash": "c5cb5b4",
    "execution_start": 1627057694170,
    "execution_millis": 0,
    "deepnote_cell_type": "code"
   },
   "source": "sequences = PolygonSequence(20,10)\n",
   "outputs": [],
   "execution_count": 11
  },
  {
   "cell_type": "markdown",
   "source": "The `PolygonSequence` class has an `__init__`, but no `__next__`",
   "metadata": {
    "tags": [],
    "cell_id": "00004-ede122eb-cf88-4ba0-aa39-1f00e31be138",
    "deepnote_cell_type": "markdown"
   }
  },
  {
   "cell_type": "code",
   "metadata": {
    "tags": [],
    "cell_id": "00004-20ab5b25-5566-4fb7-ac6c-51bc38cc819c",
    "deepnote_to_be_reexecuted": false,
    "source_hash": "7d5cef29",
    "execution_start": 1627057694415,
    "execution_millis": 12,
    "deepnote_cell_type": "code"
   },
   "source": "'__init__' in dir(sequences), '__next__' in dir(sequences)\n",
   "outputs": [
    {
     "output_type": "execute_result",
     "execution_count": 12,
     "data": {
      "text/plain": "(True, False)"
     },
     "metadata": {}
    }
   ],
   "execution_count": 12
  },
  {
   "cell_type": "markdown",
   "source": "The `SequenceIterator` class has both `__init__` and `__next__` methods",
   "metadata": {
    "tags": [],
    "cell_id": "00006-298b2fe5-e7fa-403d-bf3a-39e550d72424",
    "deepnote_cell_type": "markdown"
   }
  },
  {
   "cell_type": "code",
   "metadata": {
    "tags": [],
    "cell_id": "00005-1e024027-ab67-4841-8f94-4131cd885f2f",
    "deepnote_to_be_reexecuted": false,
    "source_hash": "a2dae108",
    "execution_start": 1627057695234,
    "execution_millis": 7,
    "deepnote_cell_type": "code"
   },
   "source": "'__init__' in dir(iter(sequences)), '__next__' in dir(iter(sequences))\n",
   "outputs": [
    {
     "output_type": "execute_result",
     "execution_count": 13,
     "data": {
      "text/plain": "(True, True)"
     },
     "metadata": {}
    }
   ],
   "execution_count": 13
  },
  {
   "cell_type": "code",
   "metadata": {
    "tags": [],
    "cell_id": "00006-0873d4b7-5202-43e5-b69a-28f3dcb37332",
    "deepnote_to_be_reexecuted": false,
    "source_hash": "8d51c0d0",
    "execution_start": 1627057697200,
    "execution_millis": 19,
    "deepnote_cell_type": "code"
   },
   "source": "# The PolygonSequence can be iterated over\nfor seq in sequences:\n    print(seq)",
   "outputs": [
    {
     "name": "stdout",
     "text": "A regular polygon with {'_edges': 3, '_vertices': 3, '_edge_length': 17.32050807568877, '_interior_angle': 60.0, '_apothem': 5.000000000000001, '_area': 129.9038105676658, '_perimeter': 51.96152422706631, '_radius': 10}\nA regular polygon with {'_edges': 4, '_vertices': 4, '_edge_length': 14.14213562373095, '_interior_angle': 90.0, '_apothem': 7.0710678118654755, '_area': 200.0, '_perimeter': 56.5685424949238, '_radius': 10}\nA regular polygon with {'_edges': 5, '_vertices': 5, '_edge_length': 11.755705045849464, '_interior_angle': 108.0, '_apothem': 8.090169943749475, '_area': 237.76412907378844, '_perimeter': 58.77852522924732, '_radius': 10}\nA regular polygon with {'_edges': 6, '_vertices': 6, '_edge_length': 9.999999999999998, '_interior_angle': 120.0, '_apothem': 8.660254037844387, '_area': 259.80762113533154, '_perimeter': 59.999999999999986, '_radius': 10}\nA regular polygon with {'_edges': 7, '_vertices': 7, '_edge_length': 8.677674782351163, '_interior_angle': 128.57142857142858, '_apothem': 9.009688679024192, '_area': 273.6410188638105, '_perimeter': 60.74372347645814, '_radius': 10}\nA regular polygon with {'_edges': 8, '_vertices': 8, '_edge_length': 7.653668647301796, '_interior_angle': 135.0, '_apothem': 9.238795325112868, '_area': 282.842712474619, '_perimeter': 61.22934917841437, '_radius': 10}\nA regular polygon with {'_edges': 9, '_vertices': 9, '_edge_length': 6.840402866513374, '_interior_angle': 140.0, '_apothem': 9.396926207859085, '_area': 289.2544243589427, '_perimeter': 61.563625798620365, '_radius': 10}\nA regular polygon with {'_edges': 10, '_vertices': 10, '_edge_length': 6.180339887498948, '_interior_angle': 144.0, '_apothem': 9.510565162951535, '_area': 293.8926261462365, '_perimeter': 61.80339887498948, '_radius': 10}\nA regular polygon with {'_edges': 11, '_vertices': 11, '_edge_length': 5.634651136828594, '_interior_angle': 147.27272727272728, '_apothem': 9.594929736144973, '_area': 297.35244960057867, '_perimeter': 61.98116250511453, '_radius': 10}\nA regular polygon with {'_edges': 12, '_vertices': 12, '_edge_length': 5.176380902050415, '_interior_angle': 150.0, '_apothem': 9.659258262890683, '_area': 300.0, '_perimeter': 62.11657082460498, '_radius': 10}\nA regular polygon with {'_edges': 13, '_vertices': 13, '_edge_length': 4.786313285751155, '_interior_angle': 152.30769230769232, '_apothem': 9.70941817426052, '_area': 302.0700618284495, '_perimeter': 62.22207271476501, '_radius': 10}\nA regular polygon with {'_edges': 14, '_vertices': 14, '_edge_length': 4.450418679126288, '_interior_angle': 154.28571428571428, '_apothem': 9.749279121818237, '_area': 303.7186173822907, '_perimeter': 62.30586150776803, '_radius': 10}\nA regular polygon with {'_edges': 15, '_vertices': 15, '_edge_length': 4.158233816355186, '_interior_angle': 156.0, '_apothem': 9.781476007338057, '_area': 305.05248230685015, '_perimeter': 62.373507245327794, '_radius': 10}\nA regular polygon with {'_edges': 16, '_vertices': 16, '_edge_length': 3.9018064403225647, '_interior_angle': 157.5, '_apothem': 9.807852804032304, '_area': 306.14674589207175, '_perimeter': 62.428903045161036, '_radius': 10}\nA regular polygon with {'_edges': 17, '_vertices': 17, '_edge_length': 3.674990356331407, '_interior_angle': 158.8235294117647, '_apothem': 9.829730996839018, '_area': 307.05541625908, '_perimeter': 62.474836057633915, '_radius': 10}\nA regular polygon with {'_edges': 18, '_vertices': 18, '_edge_length': 3.4729635533386065, '_interior_angle': 160.0, '_apothem': 9.84807753012208, '_area': 307.81812899310177, '_perimeter': 62.513343960094915, '_radius': 10}\nA regular polygon with {'_edges': 19, '_vertices': 19, '_edge_length': 3.2918918056146778, '_interior_angle': 161.05263157894737, '_apothem': 9.863613034027223, '_area': 308.46449574444927, '_perimeter': 62.54594430667888, '_radius': 10}\nA regular polygon with {'_edges': 20, '_vertices': 20, '_edge_length': 3.1286893008046173, '_interior_angle': 162.0, '_apothem': 9.876883405951379, '_area': 309.01699437494744, '_perimeter': 62.57378601609234, '_radius': 10}\n",
     "output_type": "stream"
    }
   ],
   "execution_count": 14
  },
  {
   "cell_type": "code",
   "metadata": {
    "tags": [],
    "cell_id": "00007-0bb91ceb-62cb-4c08-8c6f-9a6a56685805",
    "deepnote_to_be_reexecuted": false,
    "source_hash": "2ed5153d",
    "execution_start": 1627057700646,
    "execution_millis": 5,
    "deepnote_cell_type": "code"
   },
   "source": "# The PolygonIterator class can be iterated over using the `next` method\nsequences = iter(PolygonSequence(25,10))\nfor i in range(5):\n    print(next(sequences))",
   "outputs": [
    {
     "name": "stdout",
     "text": "A regular polygon with {'_edges': 3, '_vertices': 3, '_edge_length': 17.32050807568877, '_interior_angle': 60.0, '_apothem': 5.000000000000001, '_area': 129.9038105676658, '_perimeter': 51.96152422706631, '_radius': 10}\nA regular polygon with {'_edges': 4, '_vertices': 4, '_edge_length': 14.14213562373095, '_interior_angle': 90.0, '_apothem': 7.0710678118654755, '_area': 200.0, '_perimeter': 56.5685424949238, '_radius': 10}\nA regular polygon with {'_edges': 5, '_vertices': 5, '_edge_length': 11.755705045849464, '_interior_angle': 108.0, '_apothem': 8.090169943749475, '_area': 237.76412907378844, '_perimeter': 58.77852522924732, '_radius': 10}\nA regular polygon with {'_edges': 6, '_vertices': 6, '_edge_length': 9.999999999999998, '_interior_angle': 120.0, '_apothem': 8.660254037844387, '_area': 259.80762113533154, '_perimeter': 59.999999999999986, '_radius': 10}\nA regular polygon with {'_edges': 7, '_vertices': 7, '_edge_length': 8.677674782351163, '_interior_angle': 128.57142857142858, '_apothem': 9.009688679024192, '_area': 273.6410188638105, '_perimeter': 60.74372347645814, '_radius': 10}\n",
     "output_type": "stream"
    }
   ],
   "execution_count": 15
  },
  {
   "cell_type": "code",
   "metadata": {
    "tags": [],
    "cell_id": "00010-8a7f8a55-2f65-44e1-9d1b-5f3b5461a9c7",
    "deepnote_to_be_reexecuted": false,
    "source_hash": "28f83035",
    "execution_start": 1627058026933,
    "execution_millis": 7,
    "deepnote_cell_type": "code"
   },
   "source": "# The Polygon Sequence class can be iterated over using index too, as __getitem__ method has been implemented\nsequences = PolygonSequence(25,10)\nfor i in range(3,6):\n    print(sequences[i])",
   "outputs": [
    {
     "name": "stdout",
     "text": "A regular polygon with {'_edges': 3, '_vertices': 3, '_edge_length': 17.32050807568877, '_interior_angle': 60.0, '_apothem': 5.000000000000001, '_area': 129.9038105676658, '_perimeter': 51.96152422706631, '_radius': 10}\nA regular polygon with {'_edges': 4, '_vertices': 4, '_edge_length': 14.14213562373095, '_interior_angle': 90.0, '_apothem': 7.0710678118654755, '_area': 200.0, '_perimeter': 56.5685424949238, '_radius': 10}\nA regular polygon with {'_edges': 5, '_vertices': 5, '_edge_length': 11.755705045849464, '_interior_angle': 108.0, '_apothem': 8.090169943749475, '_area': 237.76412907378844, '_perimeter': 58.77852522924732, '_radius': 10}\n",
     "output_type": "stream"
    }
   ],
   "execution_count": 20
  },
  {
   "cell_type": "code",
   "metadata": {
    "tags": [],
    "cell_id": "00006-8fa123e7-011d-44d1-a051-5069fed6f16d",
    "deepnote_to_be_reexecuted": false,
    "source_hash": "eacf115",
    "execution_start": 1627057704779,
    "execution_millis": 13,
    "deepnote_cell_type": "code"
   },
   "source": "try:\n    while True:\n        print(next(sequences))\nexcept StopIteration:\n    print('Reached end of execution')",
   "outputs": [
    {
     "name": "stdout",
     "text": "A regular polygon with {'_edges': 8, '_vertices': 8, '_edge_length': 7.653668647301796, '_interior_angle': 135.0, '_apothem': 9.238795325112868, '_area': 282.842712474619, '_perimeter': 61.22934917841437, '_radius': 10}\nA regular polygon with {'_edges': 9, '_vertices': 9, '_edge_length': 6.840402866513374, '_interior_angle': 140.0, '_apothem': 9.396926207859085, '_area': 289.2544243589427, '_perimeter': 61.563625798620365, '_radius': 10}\nA regular polygon with {'_edges': 10, '_vertices': 10, '_edge_length': 6.180339887498948, '_interior_angle': 144.0, '_apothem': 9.510565162951535, '_area': 293.8926261462365, '_perimeter': 61.80339887498948, '_radius': 10}\nA regular polygon with {'_edges': 11, '_vertices': 11, '_edge_length': 5.634651136828594, '_interior_angle': 147.27272727272728, '_apothem': 9.594929736144973, '_area': 297.35244960057867, '_perimeter': 61.98116250511453, '_radius': 10}\nA regular polygon with {'_edges': 12, '_vertices': 12, '_edge_length': 5.176380902050415, '_interior_angle': 150.0, '_apothem': 9.659258262890683, '_area': 300.0, '_perimeter': 62.11657082460498, '_radius': 10}\nA regular polygon with {'_edges': 13, '_vertices': 13, '_edge_length': 4.786313285751155, '_interior_angle': 152.30769230769232, '_apothem': 9.70941817426052, '_area': 302.0700618284495, '_perimeter': 62.22207271476501, '_radius': 10}\nA regular polygon with {'_edges': 14, '_vertices': 14, '_edge_length': 4.450418679126288, '_interior_angle': 154.28571428571428, '_apothem': 9.749279121818237, '_area': 303.7186173822907, '_perimeter': 62.30586150776803, '_radius': 10}\nA regular polygon with {'_edges': 15, '_vertices': 15, '_edge_length': 4.158233816355186, '_interior_angle': 156.0, '_apothem': 9.781476007338057, '_area': 305.05248230685015, '_perimeter': 62.373507245327794, '_radius': 10}\nA regular polygon with {'_edges': 16, '_vertices': 16, '_edge_length': 3.9018064403225647, '_interior_angle': 157.5, '_apothem': 9.807852804032304, '_area': 306.14674589207175, '_perimeter': 62.428903045161036, '_radius': 10}\nA regular polygon with {'_edges': 17, '_vertices': 17, '_edge_length': 3.674990356331407, '_interior_angle': 158.8235294117647, '_apothem': 9.829730996839018, '_area': 307.05541625908, '_perimeter': 62.474836057633915, '_radius': 10}\nA regular polygon with {'_edges': 18, '_vertices': 18, '_edge_length': 3.4729635533386065, '_interior_angle': 160.0, '_apothem': 9.84807753012208, '_area': 307.81812899310177, '_perimeter': 62.513343960094915, '_radius': 10}\nA regular polygon with {'_edges': 19, '_vertices': 19, '_edge_length': 3.2918918056146778, '_interior_angle': 161.05263157894737, '_apothem': 9.863613034027223, '_area': 308.46449574444927, '_perimeter': 62.54594430667888, '_radius': 10}\nA regular polygon with {'_edges': 20, '_vertices': 20, '_edge_length': 3.1286893008046173, '_interior_angle': 162.0, '_apothem': 9.876883405951379, '_area': 309.01699437494744, '_perimeter': 62.57378601609234, '_radius': 10}\nA regular polygon with {'_edges': 21, '_vertices': 21, '_edge_length': 2.980845323523489, '_interior_angle': 162.85714285714286, '_apothem': 9.888308262251286, '_area': 309.49293313144943, '_perimeter': 62.59775179399327, '_radius': 10}\nA regular polygon with {'_edges': 22, '_vertices': 22, '_edge_length': 2.846296765465703, '_interior_angle': 163.63636363636363, '_apothem': 9.898214418809326, '_area': 309.9058125255727, '_perimeter': 62.61852884024547, '_radius': 10}\nA regular polygon with {'_edges': 23, '_vertices': 23, '_edge_length': 2.7233329819249317, '_interior_angle': 164.34782608695653, '_apothem': 9.906859460363307, '_area': 310.2662868305779, '_perimeter': 62.63665858427343, '_radius': 10}\nA regular polygon with {'_edges': 24, '_vertices': 24, '_edge_length': 2.6105238444010315, '_interior_angle': 165.0, '_apothem': 9.914448613738104, '_area': 310.58285412302484, '_perimeter': 62.652572265624755, '_radius': 10}\nA regular polygon with {'_edges': 25, '_vertices': 25, '_edge_length': 2.506664671286085, '_interior_angle': 165.6, '_apothem': 9.921147013144779, '_area': 310.86235895606853, '_perimeter': 62.66661678215213, '_radius': 10}\nReached end of execution\n",
     "output_type": "stream"
    }
   ],
   "execution_count": 16
  },
  {
   "cell_type": "markdown",
   "source": "<a style='text-decoration:none;line-height:16px;display:flex;color:#5B5B62;padding:10px;justify-content:end;' href='https://deepnote.com?utm_source=created-in-deepnote-cell&projectId=d546006b-e8c8-4509-90cd-8840fb739e0d' target=\"_blank\">\n<img alt='Created in deepnote.com' style='display:inline;max-height:16px;margin:0px;margin-right:7.5px;' src='data:image/svg+xml;base64,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' > </img>\nCreated in <span style='font-weight:600;margin-left:4px;'>Deepnote</span></a>",
   "metadata": {
    "tags": [],
    "created_in_deepnote_cell": true,
    "deepnote_cell_type": "markdown"
   }
  }
 ],
 "nbformat": 4,
 "nbformat_minor": 2,
 "metadata": {
  "orig_nbformat": 2,
  "deepnote": {
   "is_reactive": false
  },
  "deepnote_notebook_id": "7efe259e-1cb8-4188-bffa-10b4d2868d5d",
  "deepnote_execution_queue": []
 }
}